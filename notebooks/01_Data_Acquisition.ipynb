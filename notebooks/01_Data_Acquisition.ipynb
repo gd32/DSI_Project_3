{
 "cells": [
  {
   "cell_type": "markdown",
   "metadata": {},
   "source": [
    "# Predicting Reddit thread participation for NBA Playoff games"
   ]
  },
  {
   "cell_type": "markdown",
   "metadata": {},
   "source": [
    "My goal for this project was to develop models that would predict if a comment was posted by a fan whose team was participating in a NBA playoff game or by a fan of a non-participating team.\n",
    "\n",
    "I collected comment data from the NBA subreddit's 'Official Game Threads' which are posted before every scheduled game and allow users to converse about the events that occur during the game as well as the game's results. By classifying each comment based on the poster's affiliation, I developed several classification models that use text content to characterize comments by the poster's affiliation."
   ]
  },
  {
   "cell_type": "markdown",
   "metadata": {},
   "source": [
    "### Setting up PRAW and PushShiftAPI"
   ]
  },
  {
   "cell_type": "markdown",
   "metadata": {},
   "source": [
    "Because the native reddit API no longer allows querying of historical Reddit threads, I used the PushShiftAPI and its associated scraper (psaw) to gather reddit comments from r/NBA's Official Game Threads for the 2017-2018 NBA playoffs."
   ]
  },
  {
   "cell_type": "code",
   "execution_count": 1,
   "metadata": {},
   "outputs": [],
   "source": [
    "import pandas as pd\n",
    "import praw\n",
    "from psaw import PushshiftAPI\n",
    "import datetime as dt\n",
    "\n",
    "reddit=praw.Reddit(client_id='VsUMbnhDFXVWDQ',\n",
    "                  client_secret='xf5IG_dfsIv94Aq2YqID7x6cnGw',\n",
    "                  user_agent='tester')\n",
    "\n",
    "api = PushshiftAPI()"
   ]
  },
  {
   "cell_type": "markdown",
   "metadata": {},
   "source": [
    "### Get the urls for each game thread\n",
    "\n",
    "Since the string 'Game Thread' is not unique to the offical game threads (it is also used in postgame threads and non-game events such as the NBA draft or draft lottery), I used the string 'You must click this link' to identify them): "
   ]
  },
  {
   "cell_type": "markdown",
   "metadata": {},
   "source": [
    "### The NBA playoffs began on 4/14/2018 so I set my scrape to only look at game threads posted since then:"
   ]
  },
  {
   "cell_type": "code",
   "execution_count": 2,
   "metadata": {},
   "outputs": [],
   "source": [
    "import datetime as dt\n",
    "\n",
    "start_time=int(dt.datetime(2018, 4, 14).timestamp())"
   ]
  },
  {
   "cell_type": "code",
   "execution_count": 3,
   "metadata": {},
   "outputs": [],
   "source": [
    "gamethreads = list(api.search_submissions(q='You must click this link',\n",
    "                                  after=start_time,\n",
    "                                  subreddit='NBA',\n",
    "                                  filter=['author', 'url', 'title'],\n",
    "                                  limit=120))"
   ]
  },
  {
   "cell_type": "code",
   "execution_count": 4,
   "metadata": {},
   "outputs": [],
   "source": [
    "url_list = []\n",
    "for i in range(1, len(gamethreads)):\n",
    "    url_list.append(gamethreads[i].url)"
   ]
  },
  {
   "cell_type": "markdown",
   "metadata": {
    "focus": false,
    "id": "a948d79c-5527-4c0d-ab23-f5d43ce72056"
   },
   "source": [
    "### Scraping Comment Info"
   ]
  },
  {
   "cell_type": "code",
   "execution_count": 5,
   "metadata": {},
   "outputs": [],
   "source": [
    "sub_list = []\n",
    "for i in url_list:\n",
    "    sub_list.append(reddit.submission(url=i))"
   ]
  },
  {
   "cell_type": "markdown",
   "metadata": {},
   "source": [
    "The replace_more method loads child comments from the top level comment. Setting it to 1 means the scrape only collects 1 child below each top level comment, while setting it to `None` would allow PRAW to scrape *every* comment in a thread."
   ]
  },
  {
   "cell_type": "code",
   "execution_count": 6,
   "metadata": {},
   "outputs": [
    {
     "name": "stdout",
     "output_type": "stream",
     "text": [
      "Wall time: 6min 38s\n"
     ]
    }
   ],
   "source": [
    "%%time\n",
    "comment_list = []\n",
    "for i in sub_list:\n",
    "    i.comments.replace_more(limit=1)\n",
    "    for comment in i.comments:\n",
    "        comment_list.append({'ups': comment.ups,\n",
    "                         'affiliation': comment.author_flair_css_class,\n",
    "                         'thread_id': comment.parent_id,\n",
    "                         'when_comment_posted': comment.created_utc,\n",
    "                         'text': comment.body})"
   ]
  },
  {
   "cell_type": "code",
   "execution_count": 7,
   "metadata": {
    "scrolled": true
   },
   "outputs": [
    {
     "data": {
      "text/plain": [
       "43998"
      ]
     },
     "execution_count": 7,
     "metadata": {},
     "output_type": "execute_result"
    }
   ],
   "source": [
    "len(comment_list)"
   ]
  },
  {
   "cell_type": "code",
   "execution_count": 8,
   "metadata": {},
   "outputs": [],
   "source": [
    "df = pd.DataFrame(comment_list)"
   ]
  },
  {
   "cell_type": "code",
   "execution_count": 9,
   "metadata": {},
   "outputs": [
    {
     "data": {
      "text/html": [
       "<div>\n",
       "<style scoped>\n",
       "    .dataframe tbody tr th:only-of-type {\n",
       "        vertical-align: middle;\n",
       "    }\n",
       "\n",
       "    .dataframe tbody tr th {\n",
       "        vertical-align: top;\n",
       "    }\n",
       "\n",
       "    .dataframe thead th {\n",
       "        text-align: right;\n",
       "    }\n",
       "</style>\n",
       "<table border=\"1\" class=\"dataframe\">\n",
       "  <thead>\n",
       "    <tr style=\"text-align: right;\">\n",
       "      <th></th>\n",
       "      <th>affiliation</th>\n",
       "      <th>text</th>\n",
       "      <th>thread_id</th>\n",
       "      <th>ups</th>\n",
       "      <th>when_comment_posted</th>\n",
       "    </tr>\n",
       "  </thead>\n",
       "  <tbody>\n",
       "    <tr>\n",
       "      <th>0</th>\n",
       "      <td>Lakers1</td>\n",
       "      <td>Washington a fool for attacking Canada in the ...</td>\n",
       "      <td>t3_8ca8gj</td>\n",
       "      <td>132</td>\n",
       "      <td>1.523745e+09</td>\n",
       "    </tr>\n",
       "    <tr>\n",
       "      <th>1</th>\n",
       "      <td>Raptors2</td>\n",
       "      <td>Fun fact: CJ Miles has more 3s in this quarter...</td>\n",
       "      <td>t3_8ca8gj</td>\n",
       "      <td>82</td>\n",
       "      <td>1.523745e+09</td>\n",
       "    </tr>\n",
       "    <tr>\n",
       "      <th>2</th>\n",
       "      <td>Bucks2</td>\n",
       "      <td>Casey uses Bebe like a fucking Yu-Gi-Oh trap c...</td>\n",
       "      <td>t3_8ca8gj</td>\n",
       "      <td>78</td>\n",
       "      <td>1.523749e+09</td>\n",
       "    </tr>\n",
       "    <tr>\n",
       "      <th>3</th>\n",
       "      <td>Suns3</td>\n",
       "      <td>Ian Mahinmi is one of those players that you h...</td>\n",
       "      <td>t3_8ca8gj</td>\n",
       "      <td>73</td>\n",
       "      <td>1.523743e+09</td>\n",
       "    </tr>\n",
       "    <tr>\n",
       "      <th>4</th>\n",
       "      <td>Celtics1</td>\n",
       "      <td>Holy fuck the ACC is loud godamn</td>\n",
       "      <td>t3_8ca8gj</td>\n",
       "      <td>72</td>\n",
       "      <td>1.523743e+09</td>\n",
       "    </tr>\n",
       "  </tbody>\n",
       "</table>\n",
       "</div>"
      ],
      "text/plain": [
       "  affiliation                                               text  thread_id  \\\n",
       "0     Lakers1  Washington a fool for attacking Canada in the ...  t3_8ca8gj   \n",
       "1    Raptors2  Fun fact: CJ Miles has more 3s in this quarter...  t3_8ca8gj   \n",
       "2      Bucks2  Casey uses Bebe like a fucking Yu-Gi-Oh trap c...  t3_8ca8gj   \n",
       "3       Suns3  Ian Mahinmi is one of those players that you h...  t3_8ca8gj   \n",
       "4    Celtics1                   Holy fuck the ACC is loud godamn  t3_8ca8gj   \n",
       "\n",
       "   ups  when_comment_posted  \n",
       "0  132         1.523745e+09  \n",
       "1   82         1.523745e+09  \n",
       "2   78         1.523749e+09  \n",
       "3   73         1.523743e+09  \n",
       "4   72         1.523743e+09  "
      ]
     },
     "execution_count": 9,
     "metadata": {},
     "output_type": "execute_result"
    }
   ],
   "source": [
    "df.head()"
   ]
  },
  {
   "cell_type": "markdown",
   "metadata": {},
   "source": [
    "#### Exporting the data to csv for preprocessing"
   ]
  },
  {
   "cell_type": "code",
   "execution_count": 10,
   "metadata": {},
   "outputs": [],
   "source": [
    "df.to_csv('../data/nbacomments_raw.csv', index=False)"
   ]
  }
 ],
 "metadata": {
  "anaconda-cloud": {},
  "kernelspec": {
   "display_name": "Python [default]",
   "language": "python",
   "name": "python3"
  },
  "language_info": {
   "codemirror_mode": {
    "name": "ipython",
    "version": 3
   },
   "file_extension": ".py",
   "mimetype": "text/x-python",
   "name": "python",
   "nbconvert_exporter": "python",
   "pygments_lexer": "ipython3",
   "version": "3.6.4"
  },
  "toc": {
   "base_numbering": 1,
   "nav_menu": {},
   "number_sections": true,
   "sideBar": true,
   "skip_h1_title": false,
   "title_cell": "Table of Contents",
   "title_sidebar": "Contents",
   "toc_cell": false,
   "toc_position": {},
   "toc_section_display": true,
   "toc_window_display": false
  },
  "varInspector": {
   "cols": {
    "lenName": 16,
    "lenType": 16,
    "lenVar": 40
   },
   "kernels_config": {
    "python": {
     "delete_cmd_postfix": "",
     "delete_cmd_prefix": "del ",
     "library": "var_list.py",
     "varRefreshCmd": "print(var_dic_list())"
    },
    "r": {
     "delete_cmd_postfix": ") ",
     "delete_cmd_prefix": "rm(",
     "library": "var_list.r",
     "varRefreshCmd": "cat(var_dic_list()) "
    }
   },
   "types_to_exclude": [
    "module",
    "function",
    "builtin_function_or_method",
    "instance",
    "_Feature"
   ],
   "window_display": false
  }
 },
 "nbformat": 4,
 "nbformat_minor": 1
}
