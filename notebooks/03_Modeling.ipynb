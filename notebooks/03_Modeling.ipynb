{
 "cells": [
  {
   "cell_type": "markdown",
   "metadata": {},
   "source": [
    "# Modeling"
   ]
  },
  {
   "cell_type": "markdown",
   "metadata": {},
   "source": [
    "## Importing modules and data"
   ]
  },
  {
   "cell_type": "code",
   "execution_count": 22,
   "metadata": {},
   "outputs": [],
   "source": [
    "from sklearn.model_selection import train_test_split, GridSearchCV\n",
    "from sklearn.preprocessing import StandardScaler, MinMaxScaler\n",
    "from sklearn.linear_model import LogisticRegression\n",
    "from sklearn.tree import DecisionTreeClassifier\n",
    "from sklearn.svm import SVC\n",
    "from sklearn.ensemble import RandomForestClassifier, BaggingClassifier, AdaBoostClassifier, GradientBoostingClassifier\n",
    "from sklearn.metrics import accuracy_score, confusion_matrix, roc_auc_score\n",
    "from sklearn.feature_extraction.text import TfidfVectorizer\n",
    "import pandas as pd\n",
    "import numpy as np\n",
    "import random\n",
    "import matplotlib.pyplot as plt\n",
    "import seaborn as sns\n",
    "from imblearn.over_sampling import RandomOverSampler\n",
    "\n",
    "%matplotlib inline\n",
    "plt.style.use('fivethirtyeight')"
   ]
  },
  {
   "cell_type": "code",
   "execution_count": 23,
   "metadata": {},
   "outputs": [],
   "source": [
    "random.seed(32)"
   ]
  },
  {
   "cell_type": "code",
   "execution_count": 24,
   "metadata": {},
   "outputs": [],
   "source": [
    "df = pd.read_csv('../data/nbacomments_processed.csv')"
   ]
  },
  {
   "cell_type": "code",
   "execution_count": 25,
   "metadata": {
    "scrolled": true
   },
   "outputs": [
    {
     "data": {
      "text/plain": [
       "(42199, 8)"
      ]
     },
     "execution_count": 25,
     "metadata": {},
     "output_type": "execute_result"
    }
   ],
   "source": [
    "df.shape"
   ]
  },
  {
   "cell_type": "markdown",
   "metadata": {},
   "source": [
    "Let's do another check for null values and drop them:"
   ]
  },
  {
   "cell_type": "code",
   "execution_count": 26,
   "metadata": {
    "scrolled": true
   },
   "outputs": [
    {
     "data": {
      "text/plain": [
       "2"
      ]
     },
     "execution_count": 26,
     "metadata": {},
     "output_type": "execute_result"
    }
   ],
   "source": [
    "df.text.isnull().sum()"
   ]
  },
  {
   "cell_type": "code",
   "execution_count": 27,
   "metadata": {},
   "outputs": [
    {
     "data": {
      "text/html": [
       "<div>\n",
       "<style scoped>\n",
       "    .dataframe tbody tr th:only-of-type {\n",
       "        vertical-align: middle;\n",
       "    }\n",
       "\n",
       "    .dataframe tbody tr th {\n",
       "        vertical-align: top;\n",
       "    }\n",
       "\n",
       "    .dataframe thead th {\n",
       "        text-align: right;\n",
       "    }\n",
       "</style>\n",
       "<table border=\"1\" class=\"dataframe\">\n",
       "  <thead>\n",
       "    <tr style=\"text-align: right;\">\n",
       "      <th></th>\n",
       "      <th>affiliation</th>\n",
       "      <th>text</th>\n",
       "      <th>thread_id</th>\n",
       "      <th>ups</th>\n",
       "      <th>when_comment_posted</th>\n",
       "      <th>team1</th>\n",
       "      <th>team2</th>\n",
       "      <th>participation</th>\n",
       "    </tr>\n",
       "  </thead>\n",
       "  <tbody>\n",
       "    <tr>\n",
       "      <th>33476</th>\n",
       "      <td>Warriors</td>\n",
       "      <td>NaN</td>\n",
       "      <td>8i2d2p</td>\n",
       "      <td>27</td>\n",
       "      <td>1.525840e+09</td>\n",
       "      <td>Pelicans</td>\n",
       "      <td>Warriors</td>\n",
       "      <td>1</td>\n",
       "    </tr>\n",
       "    <tr>\n",
       "      <th>40381</th>\n",
       "      <td>Cavaliers</td>\n",
       "      <td>NaN</td>\n",
       "      <td>8m63dg</td>\n",
       "      <td>10</td>\n",
       "      <td>1.527305e+09</td>\n",
       "      <td>Celtics</td>\n",
       "      <td>Cavaliers</td>\n",
       "      <td>1</td>\n",
       "    </tr>\n",
       "  </tbody>\n",
       "</table>\n",
       "</div>"
      ],
      "text/plain": [
       "      affiliation text thread_id  ups  when_comment_posted     team1  \\\n",
       "33476    Warriors  NaN    8i2d2p   27         1.525840e+09  Pelicans   \n",
       "40381   Cavaliers  NaN    8m63dg   10         1.527305e+09   Celtics   \n",
       "\n",
       "           team2  participation  \n",
       "33476   Warriors              1  \n",
       "40381  Cavaliers              1  "
      ]
     },
     "execution_count": 27,
     "metadata": {},
     "output_type": "execute_result"
    }
   ],
   "source": [
    "df[df.text.isnull()]"
   ]
  },
  {
   "cell_type": "code",
   "execution_count": 28,
   "metadata": {},
   "outputs": [],
   "source": [
    "df.drop([33476, 40381], 0, inplace=True)"
   ]
  },
  {
   "cell_type": "markdown",
   "metadata": {},
   "source": [
    "## Creating Validation Set, Vectorizing Text"
   ]
  },
  {
   "cell_type": "code",
   "execution_count": 29,
   "metadata": {},
   "outputs": [],
   "source": [
    "X = df.text.values\n",
    "y = df.participation\n",
    "\n",
    "X_train, X_test, y_train, y_test = train_test_split(X, y)"
   ]
  },
  {
   "cell_type": "markdown",
   "metadata": {},
   "source": [
    "### Addressing imbalanced classes"
   ]
  },
  {
   "cell_type": "markdown",
   "metadata": {},
   "source": [
    "In our data we had a 2:1 ratio of nonparticipants to participants; the imbalanced nature of the target class will impact the ability of our models to discern between the classes. I will oversample the positive class (participants) so that there is an approximate 1:1 ratio of participants to nonparticipants in the training data."
   ]
  },
  {
   "cell_type": "code",
   "execution_count": 30,
   "metadata": {},
   "outputs": [],
   "source": [
    "oversampler = RandomOverSampler(random_state=32)"
   ]
  },
  {
   "cell_type": "code",
   "execution_count": 32,
   "metadata": {},
   "outputs": [],
   "source": [
    "tv = TfidfVectorizer(strip_accents='ascii', ngram_range = (1,2), min_df=3, stop_words='english')\n",
    "X_train_tvs = tv.fit_transform(X_train.astype('str'))\n",
    "X_test_tvs = tv.transform(X_test.astype('str'))"
   ]
  },
  {
   "cell_type": "code",
   "execution_count": 34,
   "metadata": {},
   "outputs": [],
   "source": [
    "X_train_ovs, y_train = oversampler.fit_sample(X_train_tvs, y_train)"
   ]
  },
  {
   "cell_type": "markdown",
   "metadata": {},
   "source": [
    "I chose to detect posts from participating fans, so those are represented by 1s while posts from nonparticipating fans are represented by 0s; we have approximately a 2:1 ratio of nonparticipants to participants. \n",
    "\n",
    "In a confusion matrix, true positives would thus be the true number of participants identified out of all 1s predicted by the model, and true negatives would be the true number of non-participants out of all the 0s predicted by the model."
   ]
  },
  {
   "cell_type": "markdown",
   "metadata": {},
   "source": [
    "## Metrics function"
   ]
  },
  {
   "cell_type": "code",
   "execution_count": 62,
   "metadata": {},
   "outputs": [],
   "source": [
    "def get_metrics(y_true, y_predict):\n",
    "    matrix_def = [['tn','fp'], ['fn','tp']]\n",
    "    matrix = confusion_matrix(y_true, y_predict)\n",
    "    tn, fp, fn, tp = matrix.ravel()\n",
    "    accuracy = (tp+tn)/(tn+fp+fn+tp)\n",
    "    misclass = 1-accuracy\n",
    "    sensitivity = tp/(tp+fn)\n",
    "    specificity = tn/(tn+fp)\n",
    "    precision = tp/(tp+fp)\n",
    "    print('Matrix Definition')\n",
    "    print(np.array(matrix_def))\n",
    "    print('')\n",
    "    print('Confusion Matrix')\n",
    "    print(matrix)\n",
    "    print('')\n",
    "    print('METRICS')\n",
    "    print(f'accuracy: {accuracy}')\n",
    "    print(f'misclass: {misclass}')\n",
    "    print(f'sensitivity: {sensitivity}')\n",
    "    print(f'specificity: {specificity}')"
   ]
  },
  {
   "cell_type": "markdown",
   "metadata": {},
   "source": [
    "## Logistic Regression"
   ]
  },
  {
   "cell_type": "markdown",
   "metadata": {},
   "source": [
    "Logistic regression for text classification is a model where the log-odds of the probability of a success is the linear combination of the frequency (in this case the TF/IDF scaled frequency). `C` is the inverse regularization strength (larger values imply weaker regularization). `L1` and `L2` are the regularization norms (analogous to L1/Lasso regularization and L2/Ridge regularization in linear regression models)."
   ]
  },
  {
   "cell_type": "code",
   "execution_count": 44,
   "metadata": {},
   "outputs": [],
   "source": [
    "grid_logreg = GridSearchCV(LogisticRegression(), param_grid = {'penalty': ['l1', 'l2'], \n",
    "                                                               'C': [1e3, 1e4, 1e5]})"
   ]
  },
  {
   "cell_type": "code",
   "execution_count": 45,
   "metadata": {},
   "outputs": [
    {
     "name": "stdout",
     "output_type": "stream",
     "text": [
      "Wall time: 1min 45s\n"
     ]
    },
    {
     "data": {
      "text/plain": [
       "GridSearchCV(cv=None, error_score='raise',\n",
       "       estimator=LogisticRegression(C=1.0, class_weight=None, dual=False, fit_intercept=True,\n",
       "          intercept_scaling=1, max_iter=100, multi_class='ovr', n_jobs=1,\n",
       "          penalty='l2', random_state=None, solver='liblinear', tol=0.0001,\n",
       "          verbose=0, warm_start=False),\n",
       "       fit_params=None, iid=True, n_jobs=1,\n",
       "       param_grid={'penalty': ['l1', 'l2'], 'C': [1000.0, 10000.0, 100000.0]},\n",
       "       pre_dispatch='2*n_jobs', refit=True, return_train_score='warn',\n",
       "       scoring=None, verbose=0)"
      ]
     },
     "execution_count": 45,
     "metadata": {},
     "output_type": "execute_result"
    }
   ],
   "source": [
    "%%time\n",
    "grid_logreg.fit(X_train_ovs, y_train)"
   ]
  },
  {
   "cell_type": "code",
   "execution_count": 48,
   "metadata": {},
   "outputs": [
    {
     "data": {
      "text/plain": [
       "(0.8798143963071597, 0.5674881516587678)"
      ]
     },
     "execution_count": 48,
     "metadata": {},
     "output_type": "execute_result"
    }
   ],
   "source": [
    "grid_logreg.score(X_train_ovs, y_train), grid_logreg.score(X_test_tvs, y_test)"
   ]
  },
  {
   "cell_type": "code",
   "execution_count": 40,
   "metadata": {},
   "outputs": [
    {
     "data": {
      "text/plain": [
       "0.39504504504504506"
      ]
     },
     "execution_count": 40,
     "metadata": {},
     "output_type": "execute_result"
    }
   ],
   "source": [
    "precision_score(y_test, grid_logreg.predict(X_test_tvs))"
   ]
  },
  {
   "cell_type": "code",
   "execution_count": 49,
   "metadata": {},
   "outputs": [
    {
     "data": {
      "text/plain": [
       "0.5474280645032504"
      ]
     },
     "execution_count": 49,
     "metadata": {},
     "output_type": "execute_result"
    }
   ],
   "source": [
    "roc_auc_score(y_test, grid_logreg.predict(X_test_tvs))"
   ]
  },
  {
   "cell_type": "code",
   "execution_count": 50,
   "metadata": {
    "scrolled": false
   },
   "outputs": [
    {
     "data": {
      "text/plain": [
       "{'C': 1000.0, 'penalty': 'l2'}"
      ]
     },
     "execution_count": 50,
     "metadata": {},
     "output_type": "execute_result"
    }
   ],
   "source": [
    "grid_logreg.best_params_"
   ]
  },
  {
   "cell_type": "code",
   "execution_count": 51,
   "metadata": {},
   "outputs": [],
   "source": [
    "log_df_2 = pd.DataFrame(grid_logreg.best_estimator_.coef_, columns=tv.get_feature_names())"
   ]
  },
  {
   "cell_type": "code",
   "execution_count": 52,
   "metadata": {},
   "outputs": [
    {
     "data": {
      "text/html": [
       "<div>\n",
       "<style scoped>\n",
       "    .dataframe tbody tr th:only-of-type {\n",
       "        vertical-align: middle;\n",
       "    }\n",
       "\n",
       "    .dataframe tbody tr th {\n",
       "        vertical-align: top;\n",
       "    }\n",
       "\n",
       "    .dataframe thead th {\n",
       "        text-align: right;\n",
       "    }\n",
       "</style>\n",
       "<table border=\"1\" class=\"dataframe\">\n",
       "  <thead>\n",
       "    <tr style=\"text-align: right;\">\n",
       "      <th></th>\n",
       "      <th>0</th>\n",
       "    </tr>\n",
       "  </thead>\n",
       "  <tbody>\n",
       "    <tr>\n",
       "      <th>shit look</th>\n",
       "      <td>56.836393</td>\n",
       "    </tr>\n",
       "    <tr>\n",
       "      <th>big ass</th>\n",
       "      <td>53.936993</td>\n",
       "    </tr>\n",
       "    <tr>\n",
       "      <th>theres just</th>\n",
       "      <td>50.876397</td>\n",
       "    </tr>\n",
       "    <tr>\n",
       "      <th>fuck play</th>\n",
       "      <td>50.253866</td>\n",
       "    </tr>\n",
       "    <tr>\n",
       "      <th>gg cavs</th>\n",
       "      <td>49.258396</td>\n",
       "    </tr>\n",
       "    <tr>\n",
       "      <th>hes hot</th>\n",
       "      <td>47.947889</td>\n",
       "    </tr>\n",
       "    <tr>\n",
       "      <th>gg wolves</th>\n",
       "      <td>46.990958</td>\n",
       "    </tr>\n",
       "    <tr>\n",
       "      <th>talk series</th>\n",
       "      <td>46.652766</td>\n",
       "    </tr>\n",
       "    <tr>\n",
       "      <th>having play</th>\n",
       "      <td>46.158953</td>\n",
       "    </tr>\n",
       "    <tr>\n",
       "      <th>end day</th>\n",
       "      <td>45.782066</td>\n",
       "    </tr>\n",
       "  </tbody>\n",
       "</table>\n",
       "</div>"
      ],
      "text/plain": [
       "                     0\n",
       "shit look    56.836393\n",
       "big ass      53.936993\n",
       "theres just  50.876397\n",
       "fuck play    50.253866\n",
       "gg cavs      49.258396\n",
       "hes hot      47.947889\n",
       "gg wolves    46.990958\n",
       "talk series  46.652766\n",
       "having play  46.158953\n",
       "end day      45.782066"
      ]
     },
     "execution_count": 52,
     "metadata": {},
     "output_type": "execute_result"
    }
   ],
   "source": [
    "log_df_2.T.sort_values(0, ascending=False).head(10)"
   ]
  },
  {
   "cell_type": "code",
   "execution_count": 53,
   "metadata": {},
   "outputs": [
    {
     "data": {
      "text/html": [
       "<div>\n",
       "<style scoped>\n",
       "    .dataframe tbody tr th:only-of-type {\n",
       "        vertical-align: middle;\n",
       "    }\n",
       "\n",
       "    .dataframe tbody tr th {\n",
       "        vertical-align: top;\n",
       "    }\n",
       "\n",
       "    .dataframe thead th {\n",
       "        text-align: right;\n",
       "    }\n",
       "</style>\n",
       "<table border=\"1\" class=\"dataframe\">\n",
       "  <thead>\n",
       "    <tr style=\"text-align: right;\">\n",
       "      <th></th>\n",
       "      <th>0</th>\n",
       "    </tr>\n",
       "  </thead>\n",
       "  <tbody>\n",
       "    <tr>\n",
       "      <th>draymond like</th>\n",
       "      <td>-47.616986</td>\n",
       "    </tr>\n",
       "    <tr>\n",
       "      <th>calls going</th>\n",
       "      <td>-48.081052</td>\n",
       "    </tr>\n",
       "    <tr>\n",
       "      <th>married</th>\n",
       "      <td>-49.184251</td>\n",
       "    </tr>\n",
       "    <tr>\n",
       "      <th>da fuck</th>\n",
       "      <td>-49.536380</td>\n",
       "    </tr>\n",
       "    <tr>\n",
       "      <th>bored</th>\n",
       "      <td>-50.091761</td>\n",
       "    </tr>\n",
       "    <tr>\n",
       "      <th>flipping</th>\n",
       "      <td>-51.138260</td>\n",
       "    </tr>\n",
       "    <tr>\n",
       "      <th>game point</th>\n",
       "      <td>-54.652539</td>\n",
       "    </tr>\n",
       "    <tr>\n",
       "      <th>ass fouls</th>\n",
       "      <td>-58.172721</td>\n",
       "    </tr>\n",
       "    <tr>\n",
       "      <th>look easy</th>\n",
       "      <td>-61.875518</td>\n",
       "    </tr>\n",
       "    <tr>\n",
       "      <th>gobert looks</th>\n",
       "      <td>-61.915460</td>\n",
       "    </tr>\n",
       "  </tbody>\n",
       "</table>\n",
       "</div>"
      ],
      "text/plain": [
       "                       0\n",
       "draymond like -47.616986\n",
       "calls going   -48.081052\n",
       "married       -49.184251\n",
       "da fuck       -49.536380\n",
       "bored         -50.091761\n",
       "flipping      -51.138260\n",
       "game point    -54.652539\n",
       "ass fouls     -58.172721\n",
       "look easy     -61.875518\n",
       "gobert looks  -61.915460"
      ]
     },
     "execution_count": 53,
     "metadata": {},
     "output_type": "execute_result"
    }
   ],
   "source": [
    "log_df_2.T.sort_values(0, ascending=False).tail(10)"
   ]
  },
  {
   "cell_type": "markdown",
   "metadata": {},
   "source": [
    "###  Setting up dataframe for plotting"
   ]
  },
  {
   "cell_type": "code",
   "execution_count": 54,
   "metadata": {},
   "outputs": [],
   "source": [
    "bar_positive = log_df_2.T.sort_values(0, ascending=False).head(10)\n",
    "\n",
    "bar_negative = log_df_2.T.sort_values(0, ascending=False).tail(10)\n",
    "\n",
    "log_bar = bar_positive.append(bar_negative)\n",
    "\n",
    "log_bar.rename(columns={0: 'coefficient'}, inplace=True)\n",
    "\n",
    "log_bar['text'] = log_bar.index"
   ]
  },
  {
   "cell_type": "code",
   "execution_count": 55,
   "metadata": {},
   "outputs": [
    {
     "data": {
      "image/png": "[encoded data removed]",
      "text/plain": [
       "<matplotlib.figure.Figure at 0x21c6ef1cdd8>"
      ]
     },
     "metadata": {},
     "output_type": "display_data"
    }
   ],
   "source": [
    "fig = log_bar.plot.bar('text', 'coefficient', figsize=(12, 8), legend=False, cmap='winter')\n",
    "fig.set_xlabel('Text', size=15)\n",
    "plt.xticks(size=12, rotation=45)\n",
    "plt.axhline(color='black')\n",
    "fig.set_ylabel('Coefficient', size=15)\n",
    "fig.set_title('Logistic Regression Coefficients - Reddit Post Classification', size=20);\n",
    "plt.tight_layout()"
   ]
  },
  {
   "cell_type": "markdown",
   "metadata": {},
   "source": [
    "###  Interpretation"
   ]
  },
  {
   "cell_type": "markdown",
   "metadata": {},
   "source": [
    "This plot shows the top 10 most positive and the top 10 most negative coefficients of the grid searched logistic regression model. Text tokens with negative coefficients contributed heavily to posts being classified as made by non-participants, while text with positive coefficients is associated with posts being classified as made by participants."
   ]
  },
  {
   "cell_type": "markdown",
   "metadata": {},
   "source": [
    "##  Decision Tree Classifier\n",
    "\n",
    "The decision tree classifier breaks down the data in a tree-wise fashion, creating decision nodes where the algorithm decides to split the dataset using a criterion that maxmizes information gain in order to establish leaf nodes. Leaf nodes are those where the data contained within all contribute the same information to the algorithm. "
   ]
  },
  {
   "cell_type": "code",
   "execution_count": 57,
   "metadata": {},
   "outputs": [],
   "source": [
    "dt_params = {'min_samples_split': [2, 3, 4],\n",
    "             'min_samples_leaf': [2]}"
   ]
  },
  {
   "cell_type": "code",
   "execution_count": 58,
   "metadata": {},
   "outputs": [
    {
     "name": "stdout",
     "output_type": "stream",
     "text": [
      "Wall time: 1min 50s\n"
     ]
    }
   ],
   "source": [
    "%%time\n",
    "grid_dt = GridSearchCV(DecisionTreeClassifier(), param_grid = dt_params)\n",
    "grid_dt.fit(X_train_ovs, y_train)"
   ]
  },
  {
   "cell_type": "code",
   "execution_count": 59,
   "metadata": {},
   "outputs": [
    {
     "data": {
      "text/plain": [
       "0.9357118815213733"
      ]
     },
     "execution_count": 59,
     "metadata": {},
     "output_type": "execute_result"
    }
   ],
   "source": [
    "grid_dt.score(X_train_ovs, y_train)"
   ]
  },
  {
   "cell_type": "code",
   "execution_count": 60,
   "metadata": {},
   "outputs": [
    {
     "data": {
      "text/plain": [
       "0.6050236966824645"
      ]
     },
     "execution_count": 60,
     "metadata": {},
     "output_type": "execute_result"
    }
   ],
   "source": [
    "grid_dt.score(X_test_tvs, y_test)"
   ]
  },
  {
   "cell_type": "code",
   "execution_count": 63,
   "metadata": {},
   "outputs": [
    {
     "name": "stdout",
     "output_type": "stream",
     "text": [
      "Matrix Definition\n",
      "[['tn' 'fp']\n",
      " ['fn' 'tp']]\n",
      "\n",
      "Confusion Matrix\n",
      "[[5190 1729]\n",
      " [2438 1193]]\n",
      "\n",
      "METRICS\n",
      "accuracy: 0.6050236966824645\n",
      "misclass: 0.3949763033175355\n",
      "sensitivity: 0.32855962544753514\n",
      "specificity: 0.7501083971672207\n"
     ]
    }
   ],
   "source": [
    "get_metrics(y_test, grid_dt.predict(X_test_tvs))"
   ]
  },
  {
   "cell_type": "code",
   "execution_count": 64,
   "metadata": {},
   "outputs": [
    {
     "data": {
      "text/plain": [
       "{'min_samples_leaf': 2, 'min_samples_split': 3}"
      ]
     },
     "execution_count": 64,
     "metadata": {},
     "output_type": "execute_result"
    }
   ],
   "source": [
    "grid_dt.best_params_"
   ]
  },
  {
   "cell_type": "code",
   "execution_count": 65,
   "metadata": {},
   "outputs": [
    {
     "data": {
      "text/plain": [
       "0.5393340113073779"
      ]
     },
     "execution_count": 65,
     "metadata": {},
     "output_type": "execute_result"
    }
   ],
   "source": [
    "roc_auc_score(y_test, grid_dt.predict(X_test_tvs))"
   ]
  },
  {
   "cell_type": "code",
   "execution_count": 66,
   "metadata": {},
   "outputs": [
    {
     "data": {
      "text/plain": [
       "array([0.        , 0.00016254, 0.        , ..., 0.        , 0.        ,\n",
       "       0.        ])"
      ]
     },
     "execution_count": 66,
     "metadata": {},
     "output_type": "execute_result"
    }
   ],
   "source": [
    "grid_dt.best_estimator_.feature_importances_"
   ]
  },
  {
   "cell_type": "code",
   "execution_count": 67,
   "metadata": {},
   "outputs": [],
   "source": [
    "dt_df = pd.DataFrame(grid_dt.best_estimator_.feature_importances_, tv.get_feature_names())"
   ]
  },
  {
   "cell_type": "code",
   "execution_count": 68,
   "metadata": {},
   "outputs": [],
   "source": [
    "dt_bar = dt_df.sort_values(0, ascending=False).head(10)"
   ]
  },
  {
   "cell_type": "code",
   "execution_count": 69,
   "metadata": {},
   "outputs": [],
   "source": [
    "dt_bar['text'] = dt_bar.index"
   ]
  },
  {
   "cell_type": "code",
   "execution_count": 70,
   "metadata": {
    "scrolled": true
   },
   "outputs": [],
   "source": [
    "dt_bar.rename(columns={0: 'Importance'}, inplace=True)"
   ]
  },
  {
   "cell_type": "code",
   "execution_count": 71,
   "metadata": {
    "scrolled": false
   },
   "outputs": [
    {
     "data": {
      "image/png": "[encoded data removed]",
      "text/plain": [
       "<matplotlib.figure.Figure at 0x21c7e9f8668>"
      ]
     },
     "metadata": {},
     "output_type": "display_data"
    }
   ],
   "source": [
    "fig = dt_bar.plot.bar('text', 'Importance', figsize=(12, 8), legend=False, cmap='winter')\n",
    "fig.set_xlabel('Text', size=15)\n",
    "fig.set_ylabel('Feature Importance', size=15)\n",
    "plt.xticks(rotation=45, size=12)\n",
    "fig.set_title('Decision Tree Coefficients - Reddit Post Classification', size=20);\n",
    "plt.tight_layout()"
   ]
  },
  {
   "cell_type": "markdown",
   "metadata": {},
   "source": [
    "###  Interpretation\n",
    "\n",
    "Feature importances refer to the total reduction of the impurity criterion (in this case, Gini impurity) provided by splitting on the associated figure. In this decision tree, splitting classes by the word 'just' contributed the most to the classification algorithm."
   ]
  },
  {
   "cell_type": "markdown",
   "metadata": {},
   "source": [
    "## SVM\n",
    "\n",
    "The support vector machine maps data points in space and aims to find a linear boundary between classes, using the kernel trick to create a hyperplane that would divide the data in a higher dimensional space."
   ]
  },
  {
   "cell_type": "code",
   "execution_count": 36,
   "metadata": {},
   "outputs": [
    {
     "name": "stdout",
     "output_type": "stream",
     "text": [
      "CPU times: user 21min 13s, sys: 868 ms, total: 21min 14s\n",
      "Wall time: 21min 14s\n"
     ]
    }
   ],
   "source": [
    "%%time\n",
    "grid_svm = GridSearchCV(SVC(), param_grid = {'kernel': ['rbf'],\n",
    "                                             'random_state': [32],\n",
    "                                             'gamma': [0.1, 0.05, 0.001]})\n",
    "grid_svm.fit(X_train_tvs, y_train)"
   ]
  },
  {
   "cell_type": "code",
   "execution_count": 41,
   "metadata": {},
   "outputs": [
    {
     "data": {
      "text/plain": [
       "0.72688447576339954"
      ]
     },
     "execution_count": 41,
     "metadata": {},
     "output_type": "execute_result"
    }
   ],
   "source": [
    "grid_svm.score(X_train_tvs, y_train)"
   ]
  },
  {
   "cell_type": "code",
   "execution_count": 38,
   "metadata": {},
   "outputs": [
    {
     "data": {
      "text/plain": [
       "0.64327402135231315"
      ]
     },
     "execution_count": 38,
     "metadata": {},
     "output_type": "execute_result"
    }
   ],
   "source": [
    "grid_svm.score(X_test_tvs, y_test)"
   ]
  },
  {
   "cell_type": "code",
   "execution_count": 39,
   "metadata": {},
   "outputs": [
    {
     "name": "stdout",
     "output_type": "stream",
     "text": [
      "Matrix Definition\n",
      "[['tn' 'fp']\n",
      " ['fn' 'tp']]\n",
      "\n",
      "Confusion Matrix\n",
      "[[4063 2866]\n",
      " [2146 4975]]\n",
      "\n",
      "METRICS\n",
      "accuracy: 0.6432740213523132\n",
      "misclass: 0.35672597864768685\n",
      "sensitivity: 0.6986378317652016\n",
      "specificity: 0.586376100447395\n"
     ]
    }
   ],
   "source": [
    "get_metrics(y_test, grid_svm.predict(X_test_tvs))"
   ]
  },
  {
   "cell_type": "code",
   "execution_count": 42,
   "metadata": {},
   "outputs": [
    {
     "data": {
      "text/plain": [
       "{'gamma': 0.1, 'kernel': 'rbf', 'random_state': 32}"
      ]
     },
     "execution_count": 42,
     "metadata": {},
     "output_type": "execute_result"
    }
   ],
   "source": [
    "grid_svm.best_params_"
   ]
  },
  {
   "cell_type": "code",
   "execution_count": 59,
   "metadata": {},
   "outputs": [
    {
     "data": {
      "text/plain": [
       "0.64250696610629832"
      ]
     },
     "execution_count": 59,
     "metadata": {},
     "output_type": "execute_result"
    }
   ],
   "source": [
    "roc_auc_score(y_test, grid_svm.predict(X_test_tvs))"
   ]
  },
  {
   "cell_type": "markdown",
   "metadata": {},
   "source": [
    "## Random Forest Classifier\n",
    "\n",
    "A random forest fits a number of decision tree classifiers on sub-samples of the dataset and use averaging to improve the predictive accuracy and control over-fitting. The samples are drawn with replacement to produce samples of the same size as the originally input data."
   ]
  },
  {
   "cell_type": "code",
   "execution_count": 44,
   "metadata": {
    "scrolled": true
   },
   "outputs": [
    {
     "name": "stdout",
     "output_type": "stream",
     "text": [
      "CPU times: user 4min 18s, sys: 120 ms, total: 4min 18s\n",
      "Wall time: 2min 11s\n"
     ]
    }
   ],
   "source": [
    "%%time\n",
    "grid_rf = GridSearchCV(RandomForestClassifier(), param_grid={'n_estimators': [50, 100],\n",
    "                                                             'n_jobs': [-1],\n",
    "                                                             'min_samples_split': [3],\n",
    "                                                             'min_samples_leaf': [2]})\n",
    "grid_rf.fit(X_train_tvs, y_train)"
   ]
  },
  {
   "cell_type": "code",
   "execution_count": 46,
   "metadata": {
    "scrolled": true
   },
   "outputs": [
    {
     "data": {
      "text/plain": [
       "0.84414074548603701"
      ]
     },
     "execution_count": 46,
     "metadata": {},
     "output_type": "execute_result"
    }
   ],
   "source": [
    "grid_rf.score(X_train_tvs, y_train)"
   ]
  },
  {
   "cell_type": "code",
   "execution_count": 47,
   "metadata": {},
   "outputs": [
    {
     "data": {
      "text/plain": [
       "0.67124555160142352"
      ]
     },
     "execution_count": 47,
     "metadata": {},
     "output_type": "execute_result"
    }
   ],
   "source": [
    "grid_rf.score(X_test_tvs, y_test)"
   ]
  },
  {
   "cell_type": "code",
   "execution_count": 48,
   "metadata": {
    "scrolled": true
   },
   "outputs": [
    {
     "data": {
      "text/plain": [
       "{'min_samples_leaf': 2,\n",
       " 'min_samples_split': 3,\n",
       " 'n_estimators': 100,\n",
       " 'n_jobs': -1}"
      ]
     },
     "execution_count": 48,
     "metadata": {},
     "output_type": "execute_result"
    }
   ],
   "source": [
    "grid_rf.best_params_"
   ]
  },
  {
   "cell_type": "code",
   "execution_count": 49,
   "metadata": {
    "scrolled": true
   },
   "outputs": [
    {
     "name": "stdout",
     "output_type": "stream",
     "text": [
      "Matrix Definition\n",
      "[['tn' 'fp']\n",
      " ['fn' 'tp']]\n",
      "\n",
      "Confusion Matrix\n",
      "[[5146 1783]\n",
      " [2836 4285]]\n",
      "\n",
      "METRICS\n",
      "accuracy: 0.6712455516014235\n",
      "misclass: 0.3287544483985765\n",
      "sensitivity: 0.6017413284651032\n",
      "specificity: 0.7426757107807764\n"
     ]
    }
   ],
   "source": [
    "get_metrics(y_test, grid_rf.predict(X_test_tvs))"
   ]
  },
  {
   "cell_type": "code",
   "execution_count": 60,
   "metadata": {},
   "outputs": [
    {
     "data": {
      "text/plain": [
       "0.67220851962293982"
      ]
     },
     "execution_count": 60,
     "metadata": {},
     "output_type": "execute_result"
    }
   ],
   "source": [
    "roc_auc_score(y_test, grid_rf.predict(X_test_tvs))"
   ]
  },
  {
   "cell_type": "markdown",
   "metadata": {},
   "source": [
    "## Bagging Classifier\n",
    "\n",
    "A bagging classifier (short for bootstrap aggregating) classifier fits many classifiers onto random samples of the original data and averages them to generate a prediction. In this case shown below, I average the results of 10 decision trees. Bagging estimators are an effective way to reduce the variance of a single estimator."
   ]
  },
  {
   "cell_type": "markdown",
   "metadata": {},
   "source": [
    "### Bagging Decision Tree"
   ]
  },
  {
   "cell_type": "code",
   "execution_count": 53,
   "metadata": {},
   "outputs": [
    {
     "data": {
      "text/plain": [
       "GridSearchCV(cv=None, error_score='raise',\n",
       "       estimator=BaggingClassifier(base_estimator=None, bootstrap=True,\n",
       "         bootstrap_features=False, max_features=1.0, max_samples=1.0,\n",
       "         n_estimators=10, n_jobs=1, oob_score=False, random_state=None,\n",
       "         verbose=0, warm_start=False),\n",
       "       fit_params=None, iid=True, n_jobs=1,\n",
       "       param_grid={'n_estimators': [10], 'random_state': [32]},\n",
       "       pre_dispatch='2*n_jobs', refit=True, return_train_score='warn',\n",
       "       scoring=None, verbose=0)"
      ]
     },
     "execution_count": 53,
     "metadata": {},
     "output_type": "execute_result"
    }
   ],
   "source": [
    "grid_bag = GridSearchCV(BaggingClassifier(), param_grid={'n_estimators': [10],\n",
    "                                                         'random_state': [32]})\n",
    "grid_bag.fit(X_train_tvs, y_train)"
   ]
  },
  {
   "cell_type": "code",
   "execution_count": 54,
   "metadata": {},
   "outputs": [
    {
     "data": {
      "text/plain": [
       "0.9517173823743167"
      ]
     },
     "execution_count": 54,
     "metadata": {},
     "output_type": "execute_result"
    }
   ],
   "source": [
    "grid_bag.score(X_train_tvs, y_train)"
   ]
  },
  {
   "cell_type": "code",
   "execution_count": 55,
   "metadata": {},
   "outputs": [
    {
     "data": {
      "text/plain": [
       "0.637914691943128"
      ]
     },
     "execution_count": 55,
     "metadata": {},
     "output_type": "execute_result"
    }
   ],
   "source": [
    "grid_bag.score(X_test_tvs, y_test)"
   ]
  },
  {
   "cell_type": "code",
   "execution_count": 56,
   "metadata": {},
   "outputs": [
    {
     "name": "stdout",
     "output_type": "stream",
     "text": [
      "Matrix Definition\n",
      "[['tn' 'fp']\n",
      " ['fn' 'tp']]\n",
      "\n",
      "Confusion Matrix\n",
      "[[5772 1157]\n",
      " [2663  958]]\n",
      "\n",
      "METRICS\n",
      "accuracy: 0.637914691943128\n",
      "misclass: 0.362085308056872\n",
      "sensitivity: 0.26456779895056615\n",
      "specificity: 0.8330206378986866\n"
     ]
    }
   ],
   "source": [
    "get_metrics(y_test, grid_bag.predict(X_test_tvs))"
   ]
  },
  {
   "cell_type": "code",
   "execution_count": 58,
   "metadata": {},
   "outputs": [
    {
     "data": {
      "text/plain": [
       "0.5487942184246264"
      ]
     },
     "execution_count": 58,
     "metadata": {},
     "output_type": "execute_result"
    }
   ],
   "source": [
    "roc_auc_score(y_test, grid_bag.predict(X_test_tvs))"
   ]
  },
  {
   "cell_type": "markdown",
   "metadata": {},
   "source": [
    "###  Bagging Random Forest"
   ]
  },
  {
   "cell_type": "code",
   "execution_count": 62,
   "metadata": {},
   "outputs": [
    {
     "data": {
      "text/plain": [
       "GridSearchCV(cv=None, error_score='raise',\n",
       "       estimator=BaggingClassifier(base_estimator=None, bootstrap=True,\n",
       "         bootstrap_features=False, max_features=1.0, max_samples=1.0,\n",
       "         n_estimators=10, n_jobs=1, oob_score=False, random_state=None,\n",
       "         verbose=0, warm_start=False),\n",
       "       fit_params=None, iid=True, n_jobs=1,\n",
       "       param_grid={'base_estimator': [RandomForestClassifier(bootstrap=True, class_weight=None, criterion='gini',\n",
       "            max_depth=None, max_features='auto', max_leaf_nodes=None,\n",
       "            min_impurity_decrease=0.0, min_impurity_split=None,\n",
       "            min_samples_leaf=1, min_samples_split=2,\n",
       "            min_weight_fraction_leaf=0.0, n_estimators=10, n_jobs=1,\n",
       "            oob_score=False, random_state=None, verbose=0,\n",
       "            warm_start=False)], 'n_estimators': [10], 'random_state': [32]},\n",
       "       pre_dispatch='2*n_jobs', refit=True, return_train_score='warn',\n",
       "       scoring=None, verbose=0)"
      ]
     },
     "execution_count": 62,
     "metadata": {},
     "output_type": "execute_result"
    }
   ],
   "source": [
    "grid_bag_2 = GridSearchCV(BaggingClassifier(), param_grid={'base_estimator': [RandomForestClassifier()],\n",
    "                                                           'n_estimators': [10],\n",
    "                                                           'random_state': [32]})\n",
    "grid_bag_2.fit(X_train_tvs, y_train)"
   ]
  },
  {
   "cell_type": "code",
   "execution_count": 63,
   "metadata": {},
   "outputs": [
    {
     "data": {
      "text/plain": [
       "0.9114608019717508"
      ]
     },
     "execution_count": 63,
     "metadata": {},
     "output_type": "execute_result"
    }
   ],
   "source": [
    "grid_bag_2.score(X_train_tvs, y_train)"
   ]
  },
  {
   "cell_type": "code",
   "execution_count": 64,
   "metadata": {},
   "outputs": [
    {
     "data": {
      "text/plain": [
       "0.6564928909952606"
      ]
     },
     "execution_count": 64,
     "metadata": {},
     "output_type": "execute_result"
    }
   ],
   "source": [
    "grid_bag_2.score(X_test_tvs, y_test)"
   ]
  },
  {
   "cell_type": "code",
   "execution_count": 65,
   "metadata": {},
   "outputs": [
    {
     "name": "stdout",
     "output_type": "stream",
     "text": [
      "Matrix Definition\n",
      "[['tn' 'fp']\n",
      " ['fn' 'tp']]\n",
      "\n",
      "Confusion Matrix\n",
      "[[6271  658]\n",
      " [2966  655]]\n",
      "\n",
      "METRICS\n",
      "accuracy: 0.6564928909952606\n",
      "misclass: 0.34350710900473935\n",
      "sensitivity: 0.18088925711129522\n",
      "specificity: 0.9050368018473084\n"
     ]
    }
   ],
   "source": [
    "get_metrics(y_test, grid_bag_2.predict(X_test_tvs))"
   ]
  },
  {
   "cell_type": "code",
   "execution_count": 66,
   "metadata": {},
   "outputs": [
    {
     "data": {
      "text/plain": [
       "0.5429630294793019"
      ]
     },
     "execution_count": 66,
     "metadata": {},
     "output_type": "execute_result"
    }
   ],
   "source": [
    "roc_auc_score(y_test, grid_bag_2.predict(X_test_tvs))"
   ]
  },
  {
   "cell_type": "markdown",
   "metadata": {},
   "source": [
    "## Gradient Boosting\n",
    "\n",
    "Gradient boosting produces an ensemble of weak trees additively - shallow trees that only perform a low number of splits - and optimizes a loss function at many differentiable points by adding estimators to fit the error for each preceding model."
   ]
  },
  {
   "cell_type": "code",
   "execution_count": 62,
   "metadata": {},
   "outputs": [
    {
     "name": "stdout",
     "output_type": "stream",
     "text": [
      "CPU times: user 17min 48s, sys: 4 ms, total: 17min 48s\n",
      "Wall time: 17min 48s\n"
     ]
    }
   ],
   "source": [
    "%%time\n",
    "grid_grb = GridSearchCV(GradientBoostingClassifier(), param_grid={'n_estimators': [100, 500],\n",
    "                                                                  'max_depth': [2, 3],\n",
    "                                                                  'min_samples_split': [3],\n",
    "                                                                  'min_samples_leaf': [2],\n",
    "                                                                  'subsample': [0.75, 1]})\n",
    "grid_grb.fit(X_train_tvs, y_train)"
   ]
  },
  {
   "cell_type": "code",
   "execution_count": 63,
   "metadata": {},
   "outputs": [
    {
     "data": {
      "text/plain": [
       "0.70847272640994619"
      ]
     },
     "execution_count": 63,
     "metadata": {},
     "output_type": "execute_result"
    }
   ],
   "source": [
    "grid_grb.score(X_train_tvs, y_train)"
   ]
  },
  {
   "cell_type": "code",
   "execution_count": 65,
   "metadata": {},
   "outputs": [
    {
     "data": {
      "text/plain": [
       "0.63444839857651247"
      ]
     },
     "execution_count": 65,
     "metadata": {},
     "output_type": "execute_result"
    }
   ],
   "source": [
    "grid_grb.score(X_test_tvs, y_test)"
   ]
  },
  {
   "cell_type": "code",
   "execution_count": 66,
   "metadata": {},
   "outputs": [
    {
     "data": {
      "text/plain": [
       "{'max_depth': 3,\n",
       " 'min_samples_leaf': 2,\n",
       " 'min_samples_split': 3,\n",
       " 'n_estimators': 500,\n",
       " 'subsample': 0.75}"
      ]
     },
     "execution_count": 66,
     "metadata": {},
     "output_type": "execute_result"
    }
   ],
   "source": [
    "grid_grb.best_params_"
   ]
  },
  {
   "cell_type": "code",
   "execution_count": 67,
   "metadata": {},
   "outputs": [
    {
     "name": "stdout",
     "output_type": "stream",
     "text": [
      "Matrix Definition\n",
      "[['tn' 'fp']\n",
      " ['fn' 'tp']]\n",
      "\n",
      "Confusion Matrix\n",
      "[[3969 2960]\n",
      " [2176 4945]]\n",
      "\n",
      "METRICS\n",
      "accuracy: 0.6344483985765125\n",
      "misclass: 0.3655516014234875\n",
      "sensitivity: 0.6944249403173711\n",
      "specificity: 0.5728099292827248\n"
     ]
    }
   ],
   "source": [
    "get_metrics(y_test, grid_grb.predict(X_test_tvs))"
   ]
  },
  {
   "cell_type": "code",
   "execution_count": 68,
   "metadata": {},
   "outputs": [
    {
     "data": {
      "text/plain": [
       "0.63361743480004795"
      ]
     },
     "execution_count": 68,
     "metadata": {},
     "output_type": "execute_result"
    }
   ],
   "source": [
    "roc_auc_score(y_test, grid_grb.predict(X_test_tvs))"
   ]
  },
  {
   "cell_type": "markdown",
   "metadata": {},
   "source": [
    "##  Model Selection\n",
    "\n",
    "The final results of our model testing are as follows:"
   ]
  },
  {
   "cell_type": "markdown",
   "metadata": {},
   "source": [
    "| Model                   \t| Accuracy \t|  ROC AUC \t| Fit Time \t|\n",
    "|-------------------------\t|----------\t|--------\t|---------\t|\n",
    "| Logistic Regression     \t| 0.671    \t| 0.552  \t| 0 min 46s       \t|\n",
    "| Decision Tree           \t| 0.604    \t| 0.534   \t| 2 min 24s       \t|\n",
    "| SVM                     \t| 0.643    \t| 0.643   \t| 21 min 14s      \t|\n",
    "| Random Forest           \t| 0.671    \t| 0.672   \t| 2 min 11s       \t|\n",
    "| Bagging (Decision Tree) \t| 0.638   \t| 0.574  \t| 9 min 48s       \t|\n",
    "| Bagging (Random Forest) \t| 0.656    \t| 0.543   \t| 6 min 0s        \t|\n",
    "| Gradient Boosting       \t| 0.634    \t| 0.634   \t| 17 min 48s      \t|"
   ]
  },
  {
   "cell_type": "markdown",
   "metadata": {},
   "source": [
    "Based on these results, I determined that the **Random Forest** model was the best model for our application as it offered the best balance of speed and effectiveness. Of note, the Logistic Regression model was the fastest to fit and generate scores better than some of the computationally intense models such as SVM and Gradient Boosting."
   ]
  }
 ],
 "metadata": {
  "kernelspec": {
   "display_name": "Python [default]",
   "language": "python",
   "name": "python3"
  },
  "language_info": {
   "codemirror_mode": {
    "name": "ipython",
    "version": 3
   },
   "file_extension": ".py",
   "mimetype": "text/x-python",
   "name": "python",
   "nbconvert_exporter": "python",
   "pygments_lexer": "ipython3",
   "version": "3.6.4"
  },
  "toc": {
   "base_numbering": 1,
   "nav_menu": {},
   "number_sections": true,
   "sideBar": true,
   "skip_h1_title": true,
   "title_cell": "Table of Contents",
   "title_sidebar": "Contents",
   "toc_cell": false,
   "toc_position": {
    "height": "calc(100% - 180px)",
    "left": "10px",
    "top": "150px",
    "width": "384px"
   },
   "toc_section_display": true,
   "toc_window_display": true
  }
 },
 "nbformat": 4,
 "nbformat_minor": 2
}
