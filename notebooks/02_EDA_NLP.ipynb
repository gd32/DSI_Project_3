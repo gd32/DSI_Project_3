{
 "cells": [
  {
   "cell_type": "markdown",
   "metadata": {},
   "source": [
    "# Exploratory Data Analysis, Data Cleaning, NLP\n",
    "\n",
    "In this notebook, I explore and clean the scraped data and use NLP techniques to prepare the comment text for modeling."
   ]
  },
  {
   "cell_type": "markdown",
   "metadata": {},
   "source": [
    "##  Importing modules and data"
   ]
  },
  {
   "cell_type": "code",
   "execution_count": 1,
   "metadata": {},
   "outputs": [],
   "source": [
    "import pandas as pd\n",
    "import numpy as np\n",
    "import random\n",
    "\n",
    "random.seed(32)"
   ]
  },
  {
   "cell_type": "code",
   "execution_count": 2,
   "metadata": {},
   "outputs": [],
   "source": [
    "df = pd.read_csv('../data/nbacomments_raw.csv', index_col=False)"
   ]
  },
  {
   "cell_type": "code",
   "execution_count": 3,
   "metadata": {
    "scrolled": true
   },
   "outputs": [
    {
     "data": {
      "text/html": [
       "<div>\n",
       "<style scoped>\n",
       "    .dataframe tbody tr th:only-of-type {\n",
       "        vertical-align: middle;\n",
       "    }\n",
       "\n",
       "    .dataframe tbody tr th {\n",
       "        vertical-align: top;\n",
       "    }\n",
       "\n",
       "    .dataframe thead th {\n",
       "        text-align: right;\n",
       "    }\n",
       "</style>\n",
       "<table border=\"1\" class=\"dataframe\">\n",
       "  <thead>\n",
       "    <tr style=\"text-align: right;\">\n",
       "      <th></th>\n",
       "      <th>affiliation</th>\n",
       "      <th>text</th>\n",
       "      <th>thread_id</th>\n",
       "      <th>ups</th>\n",
       "      <th>when_comment_posted</th>\n",
       "    </tr>\n",
       "  </thead>\n",
       "  <tbody>\n",
       "    <tr>\n",
       "      <th>0</th>\n",
       "      <td>Lakers1</td>\n",
       "      <td>Washington a fool for attacking Canada in the ...</td>\n",
       "      <td>t3_8ca8gj</td>\n",
       "      <td>132</td>\n",
       "      <td>1.523745e+09</td>\n",
       "    </tr>\n",
       "    <tr>\n",
       "      <th>1</th>\n",
       "      <td>Raptors2</td>\n",
       "      <td>Fun fact: CJ Miles has more 3s in this quarter...</td>\n",
       "      <td>t3_8ca8gj</td>\n",
       "      <td>82</td>\n",
       "      <td>1.523745e+09</td>\n",
       "    </tr>\n",
       "    <tr>\n",
       "      <th>2</th>\n",
       "      <td>Bucks2</td>\n",
       "      <td>Casey uses Bebe like a fucking Yu-Gi-Oh trap c...</td>\n",
       "      <td>t3_8ca8gj</td>\n",
       "      <td>78</td>\n",
       "      <td>1.523749e+09</td>\n",
       "    </tr>\n",
       "    <tr>\n",
       "      <th>3</th>\n",
       "      <td>Suns3</td>\n",
       "      <td>Ian Mahinmi is one of those players that you h...</td>\n",
       "      <td>t3_8ca8gj</td>\n",
       "      <td>73</td>\n",
       "      <td>1.523743e+09</td>\n",
       "    </tr>\n",
       "    <tr>\n",
       "      <th>4</th>\n",
       "      <td>Celtics1</td>\n",
       "      <td>Holy fuck the ACC is loud godamn</td>\n",
       "      <td>t3_8ca8gj</td>\n",
       "      <td>72</td>\n",
       "      <td>1.523743e+09</td>\n",
       "    </tr>\n",
       "  </tbody>\n",
       "</table>\n",
       "</div>"
      ],
      "text/plain": [
       "  affiliation                                               text  thread_id  \\\n",
       "0     Lakers1  Washington a fool for attacking Canada in the ...  t3_8ca8gj   \n",
       "1    Raptors2  Fun fact: CJ Miles has more 3s in this quarter...  t3_8ca8gj   \n",
       "2      Bucks2  Casey uses Bebe like a fucking Yu-Gi-Oh trap c...  t3_8ca8gj   \n",
       "3       Suns3  Ian Mahinmi is one of those players that you h...  t3_8ca8gj   \n",
       "4    Celtics1                   Holy fuck the ACC is loud godamn  t3_8ca8gj   \n",
       "\n",
       "   ups  when_comment_posted  \n",
       "0  132         1.523745e+09  \n",
       "1   82         1.523745e+09  \n",
       "2   78         1.523749e+09  \n",
       "3   73         1.523743e+09  \n",
       "4   72         1.523743e+09  "
      ]
     },
     "execution_count": 3,
     "metadata": {},
     "output_type": "execute_result"
    }
   ],
   "source": [
    "df.head()"
   ]
  },
  {
   "cell_type": "code",
   "execution_count": 4,
   "metadata": {},
   "outputs": [],
   "source": [
    "df['thread_id'] = df['thread_id'].map(lambda x: x.replace('t3_','')).copy()"
   ]
  },
  {
   "cell_type": "markdown",
   "metadata": {},
   "source": [
    "Before we start, let's drop all deleted comments:"
   ]
  },
  {
   "cell_type": "code",
   "execution_count": 5,
   "metadata": {},
   "outputs": [],
   "source": [
    "df = df[df['text'] != '[deleted]']"
   ]
  },
  {
   "cell_type": "markdown",
   "metadata": {},
   "source": [
    "## EDA/Data Cleaning\n",
    "\n",
    "To answer our question, we need to add to our dataframe which teams were playing in the games for each thread (labeled as Team1 and Team2):"
   ]
  },
  {
   "cell_type": "code",
   "execution_count": 6,
   "metadata": {},
   "outputs": [],
   "source": [
    "thread_ids = pd.DataFrame(df['thread_id'].value_counts())"
   ]
  },
  {
   "cell_type": "code",
   "execution_count": 7,
   "metadata": {},
   "outputs": [],
   "source": [
    "thread_ids.rename(columns={'thread_id' : 'comments'}, inplace=True)"
   ]
  },
  {
   "cell_type": "code",
   "execution_count": 8,
   "metadata": {},
   "outputs": [],
   "source": [
    "threads_to_drop = list(thread_ids[thread_ids['comments'] < 500].index)"
   ]
  },
  {
   "cell_type": "markdown",
   "metadata": {},
   "source": [
    "Based on the value counts of the thread IDs, I determined that there were 25 threads with fewer than 500 comments (where as the remaining threads all had more than 500 comments.) These threads with low comment count were deleted because they were created in error or were duplicates of an already existing thread. Let's drop those comments since we are only interested in comments in the official game threads:"
   ]
  },
  {
   "cell_type": "code",
   "execution_count": 9,
   "metadata": {},
   "outputs": [],
   "source": [
    "df = df[~df['thread_id'].isin(threads_to_drop)]"
   ]
  },
  {
   "cell_type": "markdown",
   "metadata": {},
   "source": [
    "Now we use those thread IDs and look up the teams playing in each game:"
   ]
  },
  {
   "cell_type": "code",
   "execution_count": 10,
   "metadata": {
    "scrolled": true
   },
   "outputs": [
    {
     "data": {
      "text/plain": [
       "array(['8ca8gj', '8cb74z', '8cc2gq', '8cg1l3', '8ch3y4', '8cifug',\n",
       "       '8cje37', '8crv25', '8csumg', '8d0jib', '8d0vrr', '8d1xau',\n",
       "       '8d9kql', '8da05s', '8daltu', '8dijtk', '8djcz2', '8djk1s',\n",
       "       '8drdyv', '8drs6h', '8dsbrb', '8dx7i6', '8dy6uc', '8dz4uf',\n",
       "       '8e00qg', '8e44h7', '8e55jb', '8e665k', '8e74eg', '8eft8n',\n",
       "       '8egqf2', '8eod1l', '8eosom', '8epudl', '8exiel', '8exigg',\n",
       "       '8eyk43', '8eysfu', '8ffe7x', '8ffrp7', '8fgnxe', '8fnfsr',\n",
       "       '8foaac', '8fs7no', '8ft863', '8g3r8e', '8gcq8c', '8gdo7c',\n",
       "       '8glq4c', '8gtqly', '8gut4j', '8h3dc3', '8h4a1y', '8ha1um',\n",
       "       '8hbbf7', '8hh6n2', '8hj0sw', '8hr1vb', '8hs1o6', '8i15o2',\n",
       "       '8i2d2p', '8iaar9', '8j5uam', '8jh3qy', '8jpt7o', '8jq8si',\n",
       "       '8jzqdx', '8koysx', '8kwaqb', '8l5ajs', '8lev7l', '8lnziz',\n",
       "       '8lxerd', '8m63dg', '8me5s1', '8mlo7f', '8mukqm'], dtype=object)"
      ]
     },
     "execution_count": 10,
     "metadata": {},
     "output_type": "execute_result"
    }
   ],
   "source": [
    "df.thread_id.unique()"
   ]
  },
  {
   "cell_type": "code",
   "execution_count": 11,
   "metadata": {},
   "outputs": [],
   "source": [
    "df['team1'] = df['affiliation']\n",
    "df['team2'] = df['team1']"
   ]
  },
  {
   "cell_type": "markdown",
   "metadata": {},
   "source": [
    "The thread_id '8jpt7o' is not for a playoff game but was for the NBA Draft Lottery; we drop this column since it is not relevant to the current analysis."
   ]
  },
  {
   "cell_type": "code",
   "execution_count": 12,
   "metadata": {},
   "outputs": [],
   "source": [
    "df = df[df['thread_id'] != '8jpt7o']"
   ]
  },
  {
   "cell_type": "code",
   "execution_count": 13,
   "metadata": {},
   "outputs": [],
   "source": [
    "df.loc[df['thread_id'].isin(['8ca8gj', '8d0jib', '8drs6h', '8e665k', '8exigg', '8ffe7x']),\n",
    "       ('team1', 'team2')] = ('Raptors', 'Wizards')\n",
    "\n",
    "df.loc[df['thread_id'].isin(['8cb74z', '8crv25', '8dijtk', '8dx7i6', '8eosom']), ('team1', 'team2')] = ('Heat', '76ers')\n",
    "\n",
    "df.loc[df['thread_id'].isin(['8cc2gq', '8d1xau', '8djcz2', '8dy6uc']), ('team1', 'team2')] =  ('Pelicans', 'Blazers')\n",
    "\n",
    "df.loc[df.thread_id.isin(['8cg1l3', '8d0vrr', '8dsbrb', '8e44h7', '8eod1l', '8f71x0', '8fnfsr']),\n",
    "       ('team1', 'team2')] = ('Bucks', 'Celtics')\n",
    "\n",
    "df.loc[df.thread_id.isin(['8ch3y4', '8d9kql', '8drdyv', '8e74eg', '8exiel', '8ffrp7', '8fs7no']), \n",
    "       ('team1', 'team2')] = ('Pacers', 'Cavaliers')\n",
    "\n",
    "df.loc[df.thread_id.isin(['8cifug', '8da05s', '8e00qg', '8egqf2', '8eysfu', '8fgnxe']), \n",
    "       ('team1', 'team2')] =  ('Jazz', 'Thunder')\n",
    "\n",
    "df.loc[df.thread_id.isin(['8cje37', '8daltu', '8dz4uf', '8eft8n', '8eyk43']),\n",
    "       ('team1', 'team2')] = ('Timberwolves', 'Rockets')\n",
    "\n",
    "df.loc[df.thread_id.isin(['8csumg', '8djk1s', '8e55jb', '8epudl']), ('team1', 'team2')] = ('Spurs', 'Warriors')    \n",
    "\n",
    "df.loc[df.thread_id.isin(['8foaac', '8gdo7c', '8h3dc3', '8hh6n2', '8i2d2p']), ('team1', 'team2')] = ('Pelicans', 'Warriors')\n",
    "\n",
    "df.loc[df.thread_id.isin(['8ft863', '8glq4c', '8h4a1y', '8hj0sw', '8i15o2']), ('team1', 'team2')] = ('Jazz', 'Rockets')\n",
    "\n",
    "df.loc[df.thread_id.isin(['8g3r8e', '8gut4j', '8ha1um', '8hr1vb', '8iaar9']), ('team1', 'team2')] = ('76ers', 'Celtics')\n",
    "\n",
    "df.loc[df.thread_id.isin(['8gcq8c', '8gtqly', '8hbbf7', '8hs1o6']), ('team1', 'team2')] = ('Raptors', 'Cavaliers')\n",
    "\n",
    "df.loc[df.thread_id.isin(['8j5uam', '8jq8si', '8koysx', '8l5ajs', '8lnziz', '8m63dg', '8mlo7f']),\n",
    "       ('team1', 'team2')] = ('Celtics', 'Cavaliers')\n",
    "\n",
    "df.loc[df.thread_id.isin(['8jh3qy', '8jzqdx', '8kwaqb', '8lev7l', '8lxerd', '8me5s1', '8mukqm']),\n",
    "       ('team1', 'team2')] = ('Rockets', 'Warriors')"
   ]
  },
  {
   "cell_type": "code",
   "execution_count": 14,
   "metadata": {
    "scrolled": true
   },
   "outputs": [
    {
     "data": {
      "text/plain": [
       "Jazz            6117\n",
       "Raptors         5589\n",
       "Pelicans        4920\n",
       "Pacers          3964\n",
       "Rockets         3947\n",
       "Celtics         3919\n",
       "Bucks           3288\n",
       "76ers           2818\n",
       "Heat            2748\n",
       "Timberwolves    2744\n",
       "Spurs           2145\n",
       "Name: team1, dtype: int64"
      ]
     },
     "execution_count": 14,
     "metadata": {},
     "output_type": "execute_result"
    }
   ],
   "source": [
    "df['team1'].value_counts()"
   ]
  },
  {
   "cell_type": "code",
   "execution_count": 15,
   "metadata": {},
   "outputs": [
    {
     "data": {
      "text/plain": [
       "Cavaliers    10152\n",
       "Warriors      8871\n",
       "Celtics       6106\n",
       "Rockets       5460\n",
       "Thunder       3401\n",
       "Wizards       3320\n",
       "76ers         2748\n",
       "Blazers       2141\n",
       "Name: team2, dtype: int64"
      ]
     },
     "execution_count": 15,
     "metadata": {},
     "output_type": "execute_result"
    }
   ],
   "source": [
    "df['team2'].value_counts()"
   ]
  },
  {
   "cell_type": "markdown",
   "metadata": {},
   "source": [
    "###  Defining participants and non-participants\n",
    "\n",
    "I will define `participation` as 1 if the comment's poster was affiliated with one of the teams participating in the game the thread was for and 0 if the comment's poster was affiliated with another team, had a neutral affiliation, or had no reported affiliation."
   ]
  },
  {
   "cell_type": "code",
   "execution_count": 16,
   "metadata": {},
   "outputs": [],
   "source": [
    "df['participation'] = df.ups"
   ]
  },
  {
   "cell_type": "code",
   "execution_count": 17,
   "metadata": {},
   "outputs": [],
   "source": [
    "df.affiliation = df.affiliation.replace(r'\\d\\b', '', regex=True)"
   ]
  },
  {
   "cell_type": "code",
   "execution_count": 18,
   "metadata": {},
   "outputs": [],
   "source": [
    "df.participation = np.where(((df['affiliation'] == df['team1']) | (df['affiliation'] == df['team2'])), 1, 0)"
   ]
  },
  {
   "cell_type": "code",
   "execution_count": 19,
   "metadata": {
    "scrolled": false
   },
   "outputs": [
    {
     "data": {
      "text/plain": [
       "0    27716\n",
       "1    14483\n",
       "Name: participation, dtype: int64"
      ]
     },
     "execution_count": 19,
     "metadata": {},
     "output_type": "execute_result"
    }
   ],
   "source": [
    "df.participation.value_counts()"
   ]
  },
  {
   "cell_type": "markdown",
   "metadata": {},
   "source": [
    "We see that our sample is biased towards the non-participants (about a 2:1 ratio of non-participants to participants). Let's double the number of participant comments by randomly sampling the true data to balance the classes and adding it to the original data:"
   ]
  },
  {
   "cell_type": "markdown",
   "metadata": {},
   "source": [
    "####  Baseline accuracy"
   ]
  },
  {
   "cell_type": "code",
   "execution_count": 20,
   "metadata": {
    "scrolled": true
   },
   "outputs": [
    {
     "data": {
      "text/plain": [
       "0.34320718500438396"
      ]
     },
     "execution_count": 20,
     "metadata": {},
     "output_type": "execute_result"
    }
   ],
   "source": [
    "df.participation.mean()"
   ]
  },
  {
   "cell_type": "markdown",
   "metadata": {},
   "source": [
    "34% of comments were made by fans of participating teams."
   ]
  },
  {
   "cell_type": "markdown",
   "metadata": {},
   "source": [
    "## Processing text data\n",
    "\n",
    "Using regex and pandas' replace method, I remove all punctuation and carriage returns and convert all text to lowercase:"
   ]
  },
  {
   "cell_type": "code",
   "execution_count": 21,
   "metadata": {},
   "outputs": [],
   "source": [
    "df['text'] = df['text'].replace(r'[^a-zA-Z0-9\\s\\/]', '', regex=True)\n",
    "\n",
    "df['text'] = df['text'].map(lambda x: x.lower())\n",
    "\n",
    "df['text'] = df['text'].replace(r'[\\r\\n]+', ' ', regex=True)"
   ]
  },
  {
   "cell_type": "markdown",
   "metadata": {},
   "source": [
    "###  Exporting to csv for modeling"
   ]
  },
  {
   "cell_type": "code",
   "execution_count": 22,
   "metadata": {},
   "outputs": [],
   "source": [
    "df.to_csv('../data/nbacomments_processed.csv', index=False)"
   ]
  }
 ],
 "metadata": {
  "kernelspec": {
   "display_name": "Python [default]",
   "language": "python",
   "name": "python3"
  },
  "language_info": {
   "codemirror_mode": {
    "name": "ipython",
    "version": 3
   },
   "file_extension": ".py",
   "mimetype": "text/x-python",
   "name": "python",
   "nbconvert_exporter": "python",
   "pygments_lexer": "ipython3",
   "version": "3.6.4"
  },
  "toc": {
   "base_numbering": 1,
   "nav_menu": {},
   "number_sections": false,
   "sideBar": true,
   "skip_h1_title": false,
   "title_cell": "Table of Contents",
   "title_sidebar": "Contents",
   "toc_cell": false,
   "toc_position": {},
   "toc_section_display": true,
   "toc_window_display": false
  }
 },
 "nbformat": 4,
 "nbformat_minor": 2
}
